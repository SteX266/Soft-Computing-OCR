{
 "cells": [
  {
   "cell_type": "code",
   "execution_count": 2,
   "id": "3758d34f",
   "metadata": {},
   "outputs": [],
   "source": [
    "import numpy as np\n",
    "import cv2 # OpenCV\n",
    "import matplotlib\n",
    "import matplotlib.pyplot as plt\n",
    "import collections"
   ]
  },
  {
   "cell_type": "code",
   "execution_count": 3,
   "id": "25fbf93e",
   "metadata": {},
   "outputs": [],
   "source": [
    "# iscrtavanje slika u notebook-u\n",
    "%matplotlib inline\n",
    "# prikaz vecih slika\n",
    "matplotlib.rcParams['figure.figsize'] = 16,12"
   ]
  },
  {
   "cell_type": "code",
   "execution_count": 4,
   "id": "3a54d2b4",
   "metadata": {},
   "outputs": [
    {
     "name": "stderr",
     "output_type": "stream",
     "text": [
      "2022-11-23 15:12:43.841234: W tensorflow/stream_executor/platform/default/dso_loader.cc:64] Could not load dynamic library 'libcudart.so.11.0'; dlerror: libcudart.so.11.0: cannot open shared object file: No such file or directory; LD_LIBRARY_PATH: /home/stex/Desktop/SoftComputing/sc-2022-siit/env/lib/python3.10/site-packages/cv2/../../lib64:\n",
      "2022-11-23 15:12:43.841261: I tensorflow/stream_executor/cuda/cudart_stub.cc:29] Ignore above cudart dlerror if you do not have a GPU set up on your machine.\n"
     ]
    }
   ],
   "source": [
    "# keras\n",
    "from tensorflow import keras\n",
    "from keras.models import Sequential\n",
    "from keras.layers.core import Dense, Activation\n",
    "\n",
    "from tensorflow.keras.optimizers import SGD\n",
    "from sklearn.cluster import KMeans"
   ]
  },
  {
   "cell_type": "code",
   "execution_count": 5,
   "id": "a498ea6f",
   "metadata": {},
   "outputs": [],
   "source": [
    "def load_image(path):\n",
    "    return cv2.cvtColor(cv2.imread(path), cv2.COLOR_BGR2RGB)\n",
    "\n",
    "def image_gray(image):\n",
    "    return cv2.cvtColor(image, cv2.COLOR_RGB2GRAY)\n",
    "\n",
    "def image_bin(image_gs):\n",
    "    height, width = image_gs.shape[0:2]\n",
    "    image_binary = np.ndarray((height, width), dtype=np.uint8)\n",
    "    ret, image_bin = cv2.threshold(image_gs, 127, 255, cv2.THRESH_BINARY)\n",
    "    return image_bin\n",
    "\n",
    "def invert(image):\n",
    "    return 255-image\n",
    "\n",
    "def display_image(image, color=False):\n",
    "    if color:\n",
    "        plt.imshow(image)\n",
    "    else:\n",
    "        plt.imshow(image, 'gray')\n",
    "\n",
    "def dilate(image):\n",
    "    kernel = np.ones((3, 3)) # strukturni element 3x3 blok\n",
    "    return cv2.dilate(image, kernel, iterations=1)\n",
    "\n",
    "def erode(image):\n",
    "    kernel = np.ones((3, 3)) # strukturni element 3x3 blok\n",
    "    return cv2.erode(image, kernel, iterations=1)"
   ]
  },
  {
   "cell_type": "code",
   "execution_count": 6,
   "id": "9c78e4a7",
   "metadata": {},
   "outputs": [],
   "source": [
    "def resize_region(region):\n",
    "    return cv2.resize(region, (28, 28), interpolation=cv2.INTER_NEAREST)"
   ]
  },
  {
   "cell_type": "code",
   "execution_count": 7,
   "id": "670cbd55",
   "metadata": {},
   "outputs": [],
   "source": [
    "def scale_to_range(image):\n",
    "    return image/255"
   ]
  },
  {
   "cell_type": "code",
   "execution_count": 8,
   "id": "35e6537c",
   "metadata": {},
   "outputs": [],
   "source": [
    "def matrix_to_vector(image):\n",
    "    return image.flatten()"
   ]
  },
  {
   "cell_type": "code",
   "execution_count": 9,
   "id": "3476fa8d",
   "metadata": {},
   "outputs": [],
   "source": [
    "def prepare_for_ann(regions):\n",
    "    ready_for_ann = []\n",
    "    for region in regions:\n",
    "        scale = scale_to_range(region)\n",
    "        ready_for_ann.append(matrix_to_vector(scale))\n",
    "    return ready_for_ann"
   ]
  },
  {
   "cell_type": "code",
   "execution_count": 10,
   "id": "1eba5123",
   "metadata": {},
   "outputs": [],
   "source": [
    "def convert_output(alphabet):\n",
    "    nn_outputs = []\n",
    "    for index in range(len(alphabet)):\n",
    "        output = np.zeros(len(alphabet))\n",
    "        output[index] = 1\n",
    "        nn_outputs.append(output)\n",
    "    return np.array(nn_outputs)"
   ]
  },
  {
   "cell_type": "code",
   "execution_count": 11,
   "id": "ba0ff885",
   "metadata": {},
   "outputs": [],
   "source": [
    "def create_ann(output_size):\n",
    "    ann = Sequential()\n",
    "    ann.add(Dense(128, input_dim=784, activation='sigmoid'))\n",
    "    ann.add(Dense(output_size, activation='sigmoid'))\n",
    "    return ann"
   ]
  },
  {
   "cell_type": "code",
   "execution_count": 12,
   "id": "9858461a",
   "metadata": {},
   "outputs": [],
   "source": [
    "def train_ann(ann, X_train, y_train, epochs):\n",
    "    X_train = np.array(X_train, np.float32) # dati ulaz\n",
    "    y_train = np.array(y_train, np.float32) # zeljeni izlazi na date ulaze\n",
    "    \n",
    "    print(\"\\nTraining started...\")\n",
    "    sgd = SGD(learning_rate=0.01, momentum=0.9)\n",
    "    ann.compile(loss='mean_squared_error', optimizer=sgd)\n",
    "    ann.fit(X_train, y_train, epochs=epochs, batch_size=1, verbose=0, shuffle=False)\n",
    "    print(\"\\nTraining completed...\")\n",
    "    return ann"
   ]
  },
  {
   "cell_type": "code",
   "execution_count": 13,
   "id": "e1d11483",
   "metadata": {},
   "outputs": [],
   "source": [
    "def winner(output):\n",
    "    return max(enumerate(output), key=lambda x: x[1])[0]"
   ]
  },
  {
   "cell_type": "code",
   "execution_count": 44,
   "id": "86fd0727",
   "metadata": {},
   "outputs": [],
   "source": [
    "def display_result(outputs, alphabet):\n",
    "    result = []\n",
    "    for output in outputs:\n",
    "        result.append(alphabet[winner(output)])\n",
    "    return result"
   ]
  },
  {
   "cell_type": "code",
   "execution_count": 14,
   "id": "fe67c4c3",
   "metadata": {},
   "outputs": [],
   "source": [
    "def select_roi_with_distances(image_orig, image_bin):\n",
    "    contours, hierarchy = cv2.findContours(image_bin.copy(), cv2.RETR_LIST, cv2.CHAIN_APPROX_SIMPLE)\n",
    "    sorted_regions = [] # lista sortiranih regiona po X osi\n",
    "    regions_array = []\n",
    "    for contour in contours:\n",
    "        x, y, w, h = cv2.boundingRect(contour) # koordinate i velicina granicnog pravougaonika\n",
    "        area = cv2.contourArea(contour)\n",
    "        if area > 100 and h < 100 and w < 100 and ((h > 15 and w > 17) or (w>15 and h > 30 and area < 286)):\n",
    "            # kopirati [y:y+h+1, x:x+w+1] sa binarne slike i smestiti u novu sliku\n",
    "            # oznaciti region pravougaonikom na originalnoj slici sa rectangle funkcijom\n",
    "            region = image_bin[y:y+h+1, x:x+w+1]\n",
    "            regions_array.append([resize_region(region), (x, y, w, h)])\n",
    "            cv2.rectangle(image_orig, (x, y), (x + w, y + h), (0, 255, 0), 2)\n",
    "        \n",
    "    \n",
    "    regions_array = sorted(regions_array, key=lambda x: x[1][0])\n",
    "    sorted_regions = [region[0] for region in regions_array]\n",
    "    return image_orig, sorted_regions"
   ]
  },
  {
   "cell_type": "code",
   "execution_count": null,
   "id": "7a6ff9ce",
   "metadata": {},
   "outputs": [],
   "source": []
  },
  {
   "cell_type": "code",
   "execution_count": 28,
   "id": "f989bd4c",
   "metadata": {},
   "outputs": [],
   "source": [
    "def process_image(image_path):\n",
    "    image_color = load_image(image_path)\n",
    "    img = image_bin(image_gray(image_color))\n",
    "    selected_regions, letters = select_roi_with_d\n",
    "    \n"
   ]
  },
  {
   "cell_type": "code",
   "execution_count": 42,
   "id": "50cc61b9",
   "metadata": {},
   "outputs": [
    {
     "name": "stdout",
     "output_type": "stream",
     "text": [
      "12\n",
      "13\n",
      "30\n",
      "30\n",
      "\n",
      "Training started...\n",
      "\n",
      "Training completed...\n"
     ]
    }
   ],
   "source": [
    "train_letters = []\n",
    "alphabet = ['A', 'E', 'L','M','S','U','V','W','a','b','c','d','e','f','g','h',\n",
    "            'i','k','l','m','n','o','p','ss','r','s','t','u','w','z']\n",
    "\n",
    "\n",
    "\n",
    "a1_letters = process_image('data2/a1.jpg')\n",
    "e2_letters = process_image('data2/e2.jpg')\n",
    "l1_letters = process_image('data2/l1.jpg')\n",
    "m1_letters = process_image('data2/m1.jpg')\n",
    "s1_letters = process_image('data2/s1.jpg')\n",
    "u1_letters = process_image('data2/u1.jpg')\n",
    "v1_letters = process_image('data2/v1.jpg')\n",
    "w1_letters = process_image('data2/w1.jpg')\n",
    "\n",
    "print(len(a1_letters))\n",
    "print(len(e2_letters))\n",
    "\n",
    "train_letters.append(a1_letters[0]) #A\n",
    "train_letters.append(e2_letters[0]) #E\n",
    "train_letters.append(l1_letters[0]) #L\n",
    "train_letters.append(m1_letters[0]) #M\n",
    "train_letters.append(s1_letters[0]) #S\n",
    "train_letters.append(u1_letters[0]) #U\n",
    "train_letters.append(v1_letters[0]) #V\n",
    "train_letters.append(w1_letters[0]) #W\n",
    "\n",
    "train_letters.append(a1_letters[9]) #a\n",
    "train_letters.append(a1_letters[2]) #b\n",
    "train_letters.append(u1_letters[3]) #c\n",
    "train_letters.append(v1_letters[6]) #d\n",
    "train_letters.append(a1_letters[3]) #e\n",
    "train_letters.append(w1_letters[8]) #f\n",
    "train_letters.append(l1_letters[8]) #g\n",
    "train_letters.append(u1_letters[4]) #h\n",
    "train_letters.append(a1_letters[4]) #i\n",
    "train_letters.append(m1_letters[3]) #k\n",
    "train_letters.append(a1_letters[8]) #l\n",
    "train_letters.append(u1_letters[1]) #m\n",
    "train_letters.append(l1_letters[4]) #n\n",
    "train_letters.append(e2_letters[3]) #o\n",
    "train_letters.append(a1_letters[7]) #p\n",
    "train_letters.append(s1_letters[10]) #ss\n",
    "train_letters.append(a1_letters[1]) #r\n",
    "train_letters.append(a1_letters[6]) #s\n",
    "train_letters.append(a1_letters[5]) #t\n",
    "train_letters.append(v1_letters[7]) #u\n",
    "train_letters.append(l1_letters[6]) #w\n",
    "train_letters.append(a1_letters[11]) #z\n",
    "\n",
    "print(len(train_letters))\n",
    "print(len(alphabet))\n",
    "\n",
    "inputs = prepare_for_ann(train_letters)\n",
    "outputs = convert_output(alphabet)\n",
    "\n",
    "ann = create_ann(output_size=30)\n",
    "ann = train_ann(ann,inputs,outputs,epochs=2000)\n",
    "\n",
    "\n",
    "\n",
    "\n",
    "\n",
    "\n",
    "\n",
    "\n",
    "\n",
    "\n"
   ]
  },
  {
   "cell_type": "code",
   "execution_count": 45,
   "id": "b5f1743e",
   "metadata": {},
   "outputs": [
    {
     "name": "stdout",
     "output_type": "stream",
     "text": [
      "[[0.00671631 0.06139344 0.8953208  0.01290652 0.01436201 0.03803584\n",
      "  0.01858917 0.00497192 0.01199666 0.03143576 0.02107164 0.00139683\n",
      "  0.01738778 0.02262628 0.00905791 0.02658951 0.00311512 0.0446046\n",
      "  0.02517244 0.00481373 0.00516149 0.0033474  0.01317918 0.03351578\n",
      "  0.02276164 0.00216135 0.01476097 0.00903872 0.00583553 0.02333859]\n",
      " [0.00888076 0.00333554 0.00799441 0.924788   0.02435404 0.00935531\n",
      "  0.02390814 0.00449783 0.00689307 0.01313558 0.01756209 0.00459796\n",
      "  0.01006097 0.0102137  0.01809558 0.01037145 0.00395328 0.00820297\n",
      "  0.00118765 0.03366873 0.02031758 0.00550851 0.01516607 0.00493315\n",
      "  0.01787147 0.01685095 0.00958666 0.02053797 0.00708586 0.00588518]]\n",
      "\n",
      "\n",
      "['L', 'M']\n"
     ]
    }
   ],
   "source": [
    "result = ann.predict(np.array(inputs[2:4], np.float32))\n",
    "print(result)\n",
    "print(\"\\n\")\n",
    "print(display_result(result, alphabet))"
   ]
  },
  {
   "cell_type": "code",
   "execution_count": 58,
   "id": "79764e66",
   "metadata": {},
   "outputs": [
    {
     "name": "stdout",
     "output_type": "stream",
     "text": [
      "['W', 'a', 's', 'c', 'h', 'S', 't', 'r', 'a', 'ss', 'e']\n"
     ]
    }
   ],
   "source": [
    "test_letters = process_image('data2/w2.jpg')\n",
    "\n",
    "test_inputs = prepare_for_ann(test_letters)\n",
    "result = ann.predict(np.array(test_inputs, np.float32))\n",
    "print(display_result(result, alphabet))"
   ]
  },
  {
   "cell_type": "code",
   "execution_count": null,
   "id": "129fca5c",
   "metadata": {},
   "outputs": [],
   "source": []
  }
 ],
 "metadata": {
  "kernelspec": {
   "display_name": "Python 3 (ipykernel)",
   "language": "python",
   "name": "python3"
  },
  "language_info": {
   "codemirror_mode": {
    "name": "ipython",
    "version": 3
   },
   "file_extension": ".py",
   "mimetype": "text/x-python",
   "name": "python",
   "nbconvert_exporter": "python",
   "pygments_lexer": "ipython3",
   "version": "3.10.6"
  }
 },
 "nbformat": 4,
 "nbformat_minor": 5
}
